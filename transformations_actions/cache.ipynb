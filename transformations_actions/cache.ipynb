{
 "cells": [
  {
   "cell_type": "code",
   "execution_count": 1,
   "metadata": {},
   "outputs": [],
   "source": [
    "from pyspark import SparkContext\n",
    "from pyspark.sql import SparkSession\n",
    "\n",
    "from pyspark.sql.types import StructType, StructField, IntegerType, StringType, FloatType\n",
    "from pyspark.sql.types import Row\n",
    "\n",
    "from pyspark.sql import SQLContext"
   ]
  },
  {
   "cell_type": "code",
   "execution_count": 2,
   "metadata": {},
   "outputs": [],
   "source": [
    "spark = SparkContext(master='local', appName='dataframes')\n",
    "sqlContext = SQLContext(spark)"
   ]
  },
  {
   "cell_type": "markdown",
   "metadata": {},
   "source": [
    "# Dataframes"
   ]
  },
  {
   "cell_type": "code",
   "execution_count": 3,
   "metadata": {},
   "outputs": [],
   "source": [
    "path = '/home/robert/Project/spark-2/transformations_actions/files/'"
   ]
  },
  {
   "cell_type": "code",
   "execution_count": 4,
   "metadata": {},
   "outputs": [
    {
     "name": "stdout",
     "output_type": "stream",
     "text": [
      ",nombre_juego,annio,temporada,ciudad\n",
      "1,1896 Verano,1896,Verano,Athina\n",
      "2,1900 Verano,1900,Verano,Paris\n",
      "3,1904 Verano,1904,Verano,St. Louis\n",
      "4,1906 Verano,1906,Verano,Athina\n"
     ]
    }
   ],
   "source": [
    "!head -n 5 /home/robert/Project/spark-2/transformations_actions/files/juegos.csv"
   ]
  },
  {
   "cell_type": "code",
   "execution_count": 5,
   "metadata": {},
   "outputs": [],
   "source": [
    "game_schema = StructType([\n",
    "    StructField('juego_id', IntegerType(), False),\n",
    "    StructField('anio', StringType(), False),\n",
    "    StructField('temporada', StringType(), False),\n",
    "    StructField('ciudad', StringType(), False)\n",
    "])"
   ]
  },
  {
   "cell_type": "code",
   "execution_count": 6,
   "metadata": {},
   "outputs": [],
   "source": [
    "juego_df = sqlContext.read.schema(game_schema) \\\n",
    "    .option('header', 'true').csv(path + 'juegos.csv')"
   ]
  },
  {
   "cell_type": "code",
   "execution_count": 7,
   "metadata": {},
   "outputs": [
    {
     "name": "stdout",
     "output_type": "stream",
     "text": [
      "+--------+-----------+---------+------+\n",
      "|juego_id|       anio|temporada|ciudad|\n",
      "+--------+-----------+---------+------+\n",
      "|       1|1896 Verano|     1896|Verano|\n",
      "|       2|1900 Verano|     1900|Verano|\n",
      "|       3|1904 Verano|     1904|Verano|\n",
      "|       4|1906 Verano|     1906|Verano|\n",
      "|       5|1908 Verano|     1908|Verano|\n",
      "+--------+-----------+---------+------+\n",
      "only showing top 5 rows\n",
      "\n"
     ]
    }
   ],
   "source": [
    "juego_df.show(5)"
   ]
  },
  {
   "cell_type": "code",
   "execution_count": 8,
   "metadata": {},
   "outputs": [
    {
     "data": {
      "text/html": [
       "\n",
       "        <div>\n",
       "            <p><b>SparkContext</b></p>\n",
       "\n",
       "            <p><a href=\"http://172.25.160.1:4040\">Spark UI</a></p>\n",
       "\n",
       "            <dl>\n",
       "              <dt>Version</dt>\n",
       "                <dd><code>v2.4.7</code></dd>\n",
       "              <dt>Master</dt>\n",
       "                <dd><code>local</code></dd>\n",
       "              <dt>AppName</dt>\n",
       "                <dd><code>dataframes</code></dd>\n",
       "            </dl>\n",
       "        </div>\n",
       "        "
      ],
      "text/plain": [
       "<SparkContext master=local appName=dataframes>"
      ]
     },
     "execution_count": 8,
     "metadata": {},
     "output_type": "execute_result"
    }
   ],
   "source": [
    "spark"
   ]
  },
  {
   "cell_type": "code",
   "execution_count": 9,
   "metadata": {},
   "outputs": [],
   "source": [
    "deportista_rdd = spark.textFile(path + 'deportista.csv') \\\n",
    "    .map(lambda l: l.split(','))"
   ]
  },
  {
   "cell_type": "code",
   "execution_count": 10,
   "metadata": {},
   "outputs": [
    {
     "data": {
      "text/plain": [
       "[['deportista_id', 'nombre', 'genero', 'edad', 'altura', 'peso', 'equipo_id'],\n",
       " ['1', 'A Dijiang', '1', '24', '180', '80', '199'],\n",
       " ['2', 'A Lamusi', '1', '23', '170', '60', '199'],\n",
       " ['3', 'Gunnar Nielsen Aaby', '1', '24', '0', '0', '273'],\n",
       " ['4', 'Edgar Lindenau Aabye', '1', '34', '0', '0', '278']]"
      ]
     },
     "execution_count": 10,
     "metadata": {},
     "output_type": "execute_result"
    }
   ],
   "source": [
    "deportista_rdd.take(5)"
   ]
  },
  {
   "cell_type": "code",
   "execution_count": 11,
   "metadata": {},
   "outputs": [],
   "source": [
    "def remove_head(index, iterator):\n",
    "    return iter(list(iterator)[1:])"
   ]
  },
  {
   "cell_type": "code",
   "execution_count": 12,
   "metadata": {},
   "outputs": [],
   "source": [
    "deportista_rdd = deportista_rdd.mapPartitionsWithIndex(remove_head)"
   ]
  },
  {
   "cell_type": "code",
   "execution_count": 13,
   "metadata": {},
   "outputs": [
    {
     "data": {
      "text/plain": [
       "[['1', 'A Dijiang', '1', '24', '180', '80', '199'],\n",
       " ['2', 'A Lamusi', '1', '23', '170', '60', '199'],\n",
       " ['3', 'Gunnar Nielsen Aaby', '1', '24', '0', '0', '273'],\n",
       " ['4', 'Edgar Lindenau Aabye', '1', '34', '0', '0', '278'],\n",
       " ['5', 'Christine Jacoba Aaftink', '2', '21', '185', '82', '705']]"
      ]
     },
     "execution_count": 13,
     "metadata": {},
     "output_type": "execute_result"
    }
   ],
   "source": [
    "deportista_rdd.take(5)"
   ]
  },
  {
   "cell_type": "code",
   "execution_count": 14,
   "metadata": {},
   "outputs": [],
   "source": [
    "deportista_rdd = deportista_rdd.map(lambda l: (\n",
    "    int(l[0]), l[1], int(l[2]), int(l[3]), int(l[4]), float(l[5]), int(l[6])\n",
    "))"
   ]
  },
  {
   "cell_type": "code",
   "execution_count": 15,
   "metadata": {},
   "outputs": [],
   "source": [
    "schema = StructType([\n",
    "    StructField('deportista_id', IntegerType(), False),\n",
    "    StructField('nombre', StringType(), False),\n",
    "    StructField('genero', IntegerType(), False),\n",
    "    StructField('edad', IntegerType(), False),\n",
    "    StructField('altura', IntegerType(), False),\n",
    "    StructField('peso', FloatType(), False),\n",
    "    StructField('equipo_id', IntegerType(), False),\n",
    "])"
   ]
  },
  {
   "cell_type": "code",
   "execution_count": 16,
   "metadata": {},
   "outputs": [],
   "source": [
    "deportista_df = sqlContext.createDataFrame(deportista_rdd, schema)"
   ]
  },
  {
   "cell_type": "code",
   "execution_count": 17,
   "metadata": {},
   "outputs": [
    {
     "name": "stdout",
     "output_type": "stream",
     "text": [
      "+-------------+--------------------+------+----+------+----+---------+\n",
      "|deportista_id|              nombre|genero|edad|altura|peso|equipo_id|\n",
      "+-------------+--------------------+------+----+------+----+---------+\n",
      "|            1|           A Dijiang|     1|  24|   180|80.0|      199|\n",
      "|            2|            A Lamusi|     1|  23|   170|60.0|      199|\n",
      "|            3| Gunnar Nielsen Aaby|     1|  24|     0| 0.0|      273|\n",
      "|            4|Edgar Lindenau Aabye|     1|  34|     0| 0.0|      278|\n",
      "|            5|Christine Jacoba ...|     2|  21|   185|82.0|      705|\n",
      "+-------------+--------------------+------+----+------+----+---------+\n",
      "only showing top 5 rows\n",
      "\n"
     ]
    }
   ],
   "source": [
    "deportista_df.show(5)"
   ]
  },
  {
   "cell_type": "code",
   "execution_count": 18,
   "metadata": {},
   "outputs": [],
   "source": [
    "paises_rdd = spark.textFile(path + 'paises.csv').map(lambda line: line.split(','))\n",
    "paises_rdd = paises_rdd.mapPartitionsWithIndex(remove_head)\n",
    "paises_rdd = paises_rdd.map(lambda l: (\n",
    "int(l[0]),\n",
    "    l[1],\n",
    "    l[2]\n",
    "))\n",
    "\n",
    "schema = StructType([\n",
    "    StructField('id', IntegerType(), False),\n",
    "    StructField('equipo', StringType(), False),\n",
    "    StructField('sigla', StringType(), False)\n",
    "])\n",
    "\n",
    "paises_df = sqlContext.createDataFrame(paises_rdd, schema)"
   ]
  },
  {
   "cell_type": "code",
   "execution_count": 19,
   "metadata": {},
   "outputs": [],
   "source": [
    "schema_deportes = StructType([\n",
    "    StructField('deporte_id', IntegerType(), False),\n",
    "    StructField('deporte', StringType(), False)\n",
    "])\n",
    "\n",
    "deportes_df = sqlContext.read.schema(schema_deportes).option('head', 'true').csv(path + 'deporte.csv')"
   ]
  },
  {
   "cell_type": "code",
   "execution_count": 20,
   "metadata": {},
   "outputs": [],
   "source": [
    "evento_schema = StructType([\n",
    "    StructField('evento_id', IntegerType(), False),\n",
    "    StructField('nombre', StringType(), False),\n",
    "    StructField('deporte_id', IntegerType(), False)\n",
    "])\n",
    "\n",
    "deportes_olimpicos_df = sqlContext.read.schema(evento_schema).option('head', 'true').csv(path + 'evento.csv')"
   ]
  },
  {
   "cell_type": "code",
   "execution_count": 21,
   "metadata": {},
   "outputs": [],
   "source": [
    "juegoSchema = StructType([\n",
    "    StructField(\"juego_id\",IntegerType(),False),\n",
    "    StructField(\"anio\",StringType(),False),\n",
    "    StructField(\"temporada\",StringType(),False),\n",
    "    StructField(\"ciudad\",StringType(),False),\n",
    "])\n",
    "juego_df = sqlContext.read.schema(juegoSchema).option(\"header\",\"true\").csv(path+\"juegos.csv\")\n",
    "\n",
    "resultadoSchema = StructType([\n",
    "    StructField(\"resultado_id\",IntegerType(),False),\n",
    "    StructField(\"medalla\",StringType(),False),\n",
    "    StructField(\"deportista_id\",IntegerType(),False),\n",
    "    StructField(\"juego_id\",IntegerType(),False),\n",
    "    StructField(\"evento_id\",IntegerType(),False),\n",
    "])\n",
    "resultado_df = sqlContext.read.schema(resultadoSchema).option(\"header\",\"true\").csv(path+\"resultados.csv\")"
   ]
  },
  {
   "cell_type": "code",
   "execution_count": 22,
   "metadata": {},
   "outputs": [
    {
     "name": "stdout",
     "output_type": "stream",
     "text": [
      "root\n",
      " |-- deporte_id: integer (nullable = true)\n",
      " |-- deporte: string (nullable = true)\n",
      "\n"
     ]
    }
   ],
   "source": [
    "deportes_df.printSchema()"
   ]
  },
  {
   "cell_type": "code",
   "execution_count": 23,
   "metadata": {},
   "outputs": [],
   "source": [
    "deportistaOlimpicoRDD =  spark.textFile(path+\"deportista.csv\").map(lambda line : line.split(\",\"))\n",
    "deportistaOlimpico2RDD = spark.textFile(path+\"deportista2.csv\").map(lambda line : line.split(\",\"))\n",
    "deportistaOlimpicoRDD = deportistaOlimpicoRDD.union(deportistaOlimpico2RDD)\n",
    "\n",
    "deportistaOlimpicoRDD=deportistaOlimpicoRDD.mapPartitionsWithIndex(remove_head)\n",
    "\n",
    "deportistaOlimpicoRDD = deportistaOlimpicoRDD.map(lambda l : (\n",
    "int(l[0]),\n",
    "l[1],\n",
    "int(l[2]),\n",
    "int(l[3]),\n",
    "int(l[4]),\n",
    "float(l[5]),\n",
    "int(l[6])\n",
    "))\n",
    "\n",
    "schema = StructType([\n",
    "StructField(\"deportista_id\",IntegerType(),False)     ,\n",
    "StructField(\"nombre\",StringType(),False)        ,\n",
    "StructField(\"genero\",IntegerType(),False)        ,\n",
    "StructField(\"edad\",IntegerType(),True)      ,\n",
    "StructField(\"altura\",IntegerType(),True)        ,\n",
    "StructField(\"peso\",FloatType(),True)      ,\n",
    "StructField(\"equipo_id\",IntegerType(),True)     \n",
    "])\n",
    "\n",
    "deportista_olimpico_df = sqlContext.createDataFrame(deportistaOlimpicoRDD,schema)"
   ]
  },
  {
   "cell_type": "code",
   "execution_count": 24,
   "metadata": {},
   "outputs": [],
   "source": [
    "deportista_olimpico_df = deportista_olimpico_df.withColumnRenamed('genero', 'sexo').drop('altura')"
   ]
  },
  {
   "cell_type": "code",
   "execution_count": 25,
   "metadata": {},
   "outputs": [
    {
     "name": "stdout",
     "output_type": "stream",
     "text": [
      "root\n",
      " |-- deportista_id: integer (nullable = false)\n",
      " |-- nombre: string (nullable = false)\n",
      " |-- sexo: integer (nullable = false)\n",
      " |-- edad: integer (nullable = true)\n",
      " |-- peso: float (nullable = true)\n",
      " |-- equipo_id: integer (nullable = true)\n",
      "\n"
     ]
    }
   ],
   "source": [
    "deportista_olimpico_df.printSchema()"
   ]
  },
  {
   "cell_type": "code",
   "execution_count": 26,
   "metadata": {},
   "outputs": [],
   "source": [
    "from pyspark.sql.functions import *\n",
    "\n",
    "deportista_olimpico_df = deportista_olimpico_df.select('deportista_id', 'nombre', col('edad').alias('edadAlJugar'), 'equipo_id')"
   ]
  },
  {
   "cell_type": "code",
   "execution_count": 27,
   "metadata": {},
   "outputs": [
    {
     "name": "stdout",
     "output_type": "stream",
     "text": [
      "+-------------+--------------------+-----------+---------+\n",
      "|deportista_id|              nombre|edadAlJugar|equipo_id|\n",
      "+-------------+--------------------+-----------+---------+\n",
      "|            1|           A Dijiang|         24|      199|\n",
      "|            2|            A Lamusi|         23|      199|\n",
      "|            3| Gunnar Nielsen Aaby|         24|      273|\n",
      "|            4|Edgar Lindenau Aabye|         34|      278|\n",
      "|            5|Christine Jacoba ...|         21|      705|\n",
      "+-------------+--------------------+-----------+---------+\n",
      "only showing top 5 rows\n",
      "\n"
     ]
    }
   ],
   "source": [
    "deportista_olimpico_df.show(5)"
   ]
  },
  {
   "cell_type": "code",
   "execution_count": 28,
   "metadata": {},
   "outputs": [
    {
     "name": "stdout",
     "output_type": "stream",
     "text": [
      "+-------------+--------------------+-----------+---------+\n",
      "|deportista_id|              nombre|edadAlJugar|equipo_id|\n",
      "+-------------+--------------------+-----------+---------+\n",
      "|        71691|  Dimitrios Loundras|         10|      333|\n",
      "|        52070|        Etsuko Inada|         11|      514|\n",
      "|        40129|    Luigina Giavotti|         11|      507|\n",
      "|        37333|Carlos Bienvenido...|         11|      982|\n",
      "|        47618|Sonja Henie Toppi...|         11|      742|\n",
      "+-------------+--------------------+-----------+---------+\n",
      "only showing top 5 rows\n",
      "\n"
     ]
    }
   ],
   "source": [
    "deportista_olimpico_df.filter((col('edadAlJugar') != 0)).sort('edadAlJugar').show(5)"
   ]
  },
  {
   "cell_type": "code",
   "execution_count": 29,
   "metadata": {},
   "outputs": [
    {
     "name": "stdout",
     "output_type": "stream",
     "text": [
      "root\n",
      " |-- deportista_id: integer (nullable = false)\n",
      " |-- nombre: string (nullable = false)\n",
      " |-- edadAlJugar: integer (nullable = true)\n",
      " |-- equipo_id: integer (nullable = true)\n",
      "\n"
     ]
    }
   ],
   "source": [
    "deportista_olimpico_df.printSchema()"
   ]
  },
  {
   "cell_type": "code",
   "execution_count": 30,
   "metadata": {},
   "outputs": [
    {
     "name": "stdout",
     "output_type": "stream",
     "text": [
      "root\n",
      " |-- resultado_id: integer (nullable = true)\n",
      " |-- medalla: string (nullable = true)\n",
      " |-- deportista_id: integer (nullable = true)\n",
      " |-- juego_id: integer (nullable = true)\n",
      " |-- evento_id: integer (nullable = true)\n",
      "\n"
     ]
    }
   ],
   "source": [
    "resultado_df.printSchema()"
   ]
  },
  {
   "cell_type": "code",
   "execution_count": 31,
   "metadata": {},
   "outputs": [
    {
     "name": "stdout",
     "output_type": "stream",
     "text": [
      "root\n",
      " |-- juego_id: integer (nullable = true)\n",
      " |-- anio: string (nullable = true)\n",
      " |-- temporada: string (nullable = true)\n",
      " |-- ciudad: string (nullable = true)\n",
      "\n"
     ]
    }
   ],
   "source": [
    "juego_df.printSchema()"
   ]
  },
  {
   "cell_type": "code",
   "execution_count": 32,
   "metadata": {},
   "outputs": [
    {
     "name": "stdout",
     "output_type": "stream",
     "text": [
      "root\n",
      " |-- evento_id: integer (nullable = true)\n",
      " |-- nombre: string (nullable = true)\n",
      " |-- deporte_id: integer (nullable = true)\n",
      "\n"
     ]
    }
   ],
   "source": [
    "deportes_olimpicos_df.printSchema()"
   ]
  },
  {
   "cell_type": "code",
   "execution_count": 33,
   "metadata": {},
   "outputs": [],
   "source": [
    "join_df = deportista_olimpico_df.join(\n",
    "    resultado_df, on='deportista_id', how='left'\n",
    ") \\\n",
    ".join(\n",
    "    juego_df, on='juego_id', how='left'\n",
    ") \\\n",
    ".join(\n",
    "    deportes_olimpicos_df, on='evento_id', how='left'\n",
    ") \\\n",
    ".select(deportista_olimpico_df.nombre, 'edadAlJugar', 'medalla',\n",
    "        col('anio').alias('Año de juego'), deportes_olimpicos_df.nombre.alias('nombre de disciplina'))"
   ]
  },
  {
   "cell_type": "code",
   "execution_count": 34,
   "metadata": {},
   "outputs": [
    {
     "name": "stdout",
     "output_type": "stream",
     "text": [
      "+------------------------+-----------+-------+-------------+----------------------------------+\n",
      "|nombre                  |edadAlJugar|medalla|Año de juego |nombre de disciplina              |\n",
      "+------------------------+-----------+-------+-------------+----------------------------------+\n",
      "|A Dijiang               |24         |NA     |1992 Verano  |Basketball Men's Basketball       |\n",
      "|A Lamusi                |23         |NA     |2012 Verano  |Judo Men's Extra-Lightweight      |\n",
      "|Gunnar Nielsen Aaby     |24         |NA     |1920 Verano  |Football Men's Football           |\n",
      "|Edgar Lindenau Aabye    |34         |Gold   |1900 Verano  |Tug-Of-War Men's Tug-Of-War       |\n",
      "|Christine Jacoba Aaftink|21         |NA     |1994 Invierno|Speed Skating Women's 1,000 metres|\n",
      "+------------------------+-----------+-------+-------------+----------------------------------+\n",
      "only showing top 5 rows\n",
      "\n"
     ]
    }
   ],
   "source": [
    "join_df.show(5, False)"
   ]
  },
  {
   "cell_type": "code",
   "execution_count": 35,
   "metadata": {},
   "outputs": [
    {
     "name": "stdout",
     "output_type": "stream",
     "text": [
      "+--------------------+-----+-------+\n",
      "|              equipo|sigla|medalla|\n",
      "+--------------------+-----+-------+\n",
      "|            Zimbabwe|  ZIM| Silver|\n",
      "|            Zimbabwe|  ZIM|   Gold|\n",
      "|            Zimbabwe|  ZIM| Bronze|\n",
      "|              Zambia|  ZAM| Silver|\n",
      "|              Zambia|  ZAM| Bronze|\n",
      "|          Yugoslavia|  YUG| Silver|\n",
      "|          Yugoslavia|  YUG|   Gold|\n",
      "|          Yugoslavia|  YUG| Bronze|\n",
      "|West Indies Feder...|  WIF| Bronze|\n",
      "|             Vietnam|  VIE|   Gold|\n",
      "|             Vietnam|  VIE| Silver|\n",
      "|           Venezuela|  VEN|   Gold|\n",
      "|           Venezuela|  VEN| Bronze|\n",
      "|           Venezuela|  VEN| Silver|\n",
      "|          Uzbekistan|  UZB|   Gold|\n",
      "|          Uzbekistan|  UZB| Bronze|\n",
      "|          Uzbekistan|  UZB| Silver|\n",
      "|       United States|  USA| Silver|\n",
      "|     United States-2|  USA| Silver|\n",
      "|New York Athletic...|  USA| Bronze|\n",
      "+--------------------+-----+-------+\n",
      "only showing top 20 rows\n",
      "\n"
     ]
    }
   ],
   "source": [
    "resultado_df.filter(col('medalla') != 'NA') \\\n",
    ".join(deportista_olimpico_df, on='deportista_id', how='left') \\\n",
    ".join(paises_df, col('id') == col('equipo_id'), how='left') \\\n",
    ".select('equipo', 'sigla', 'medalla') \\\n",
    ".dropDuplicates() \\\n",
    ".sort(col('sigla').desc()) \\\n",
    ".show()"
   ]
  },
  {
   "cell_type": "code",
   "execution_count": 36,
   "metadata": {},
   "outputs": [],
   "source": [
    "medallistaXAnio = deportista_olimpico_df.join(resultado_df, deportista_olimpico_df.deportista_id ==resultado_df.deportista_id,\"left\") \\\n",
    "        .join(juego_df, juego_df.juego_id == resultado_df.juego_id,\"left\") \\\n",
    "        .join(paises_df,deportista_olimpico_df.equipo_id == paises_df.id,\"left\") \\\n",
    "        .join(deportes_olimpicos_df, deportes_olimpicos_df.evento_id == resultado_df.evento_id,\"left\") \\\n",
    "        .join(deportes_df,deportes_olimpicos_df.deporte_id == deportes_df.deporte_id,\"left\") \\\n",
    "        .select(\"sigla\",\n",
    "                \"anio\",\n",
    "                \"medalla\",\n",
    "                deportes_olimpicos_df.nombre.alias(\"Nombre subdisciplina\"),\n",
    "                deportes_df.deporte.alias(\"Nombre disciplina\"),\n",
    "                deportista_olimpico_df.nombre,   \n",
    "                )"
   ]
  },
  {
   "cell_type": "code",
   "execution_count": 37,
   "metadata": {},
   "outputs": [],
   "source": [
    "medallistaXAnio2 = medallistaXAnio.filter(col('medalla') != 'NA') \\\n",
    "    .sort('anio') \\\n",
    "    .groupBy('sigla', 'anio', 'Nombre subdisciplina') \\\n",
    "    .count()"
   ]
  },
  {
   "cell_type": "code",
   "execution_count": 38,
   "metadata": {},
   "outputs": [
    {
     "name": "stdout",
     "output_type": "stream",
     "text": [
      "root\n",
      " |-- sigla: string (nullable = true)\n",
      " |-- anio: string (nullable = true)\n",
      " |-- Nombre subdisciplina: string (nullable = true)\n",
      " |-- count: long (nullable = false)\n",
      "\n"
     ]
    }
   ],
   "source": [
    "medallistaXAnio2.printSchema()"
   ]
  },
  {
   "cell_type": "code",
   "execution_count": 39,
   "metadata": {},
   "outputs": [
    {
     "name": "stdout",
     "output_type": "stream",
     "text": [
      "+-----+-----------+--------------+------------------+\n",
      "|sigla|       anio|total_medallas| medallas_promedio|\n",
      "+-----+-----------+--------------+------------------+\n",
      "|  FRA|1896 Verano|            11|             1.375|\n",
      "|  SUI|1896 Verano|             3|               1.0|\n",
      "|  GRE|1896 Verano|            48|1.6551724137931034|\n",
      "|  USA|1896 Verano|            20|1.6666666666666667|\n",
      "|  DEN|1896 Verano|             6|               1.0|\n",
      "|  HUN|1896 Verano|             6|               1.0|\n",
      "|  GBR|1896 Verano|             9|             1.125|\n",
      "|  AUT|1896 Verano|             5|               1.0|\n",
      "|  AUS|1896 Verano|             3|               1.0|\n",
      "|  GER|1896 Verano|            32|2.6666666666666665|\n",
      "|  FRA|1900 Verano|           250| 4.310344827586207|\n",
      "|  GER|1900 Verano|            45| 6.428571428571429|\n",
      "|  SUI|1900 Verano|            21|               3.5|\n",
      "|  LUX|1900 Verano|             1|               1.0|\n",
      "|  NED|1900 Verano|            26| 4.333333333333333|\n",
      "|  GBR|1900 Verano|            88|              3.52|\n",
      "|  BOH|1900 Verano|             3|               1.0|\n",
      "|  USA|1900 Verano|            66| 2.357142857142857|\n",
      "|  BEL|1900 Verano|            45|            2.8125|\n",
      "|  ITA|1900 Verano|             5|              1.25|\n",
      "+-----+-----------+--------------+------------------+\n",
      "only showing top 20 rows\n",
      "\n"
     ]
    }
   ],
   "source": [
    "medallistaXAnio2.groupBy('sigla', 'anio') \\\n",
    "    .agg(sum('count').alias('total_medallas'), avg('count').alias('medallas_promedio')) \\\n",
    "    .show()"
   ]
  },
  {
   "cell_type": "code",
   "execution_count": 40,
   "metadata": {},
   "outputs": [],
   "source": [
    "resultado_df.registerTempTable('resultado')\n",
    "deportista_olimpico_df.registerTempTable('deportista')\n",
    "paises_df.registerTempTable('paises')"
   ]
  },
  {
   "cell_type": "code",
   "execution_count": 41,
   "metadata": {},
   "outputs": [
    {
     "name": "stdout",
     "output_type": "stream",
     "text": [
      "+-------------+--------------------+-----------+---------+\n",
      "|deportista_id|              nombre|edadAlJugar|equipo_id|\n",
      "+-------------+--------------------+-----------+---------+\n",
      "|            1|           A Dijiang|         24|      199|\n",
      "|            2|            A Lamusi|         23|      199|\n",
      "|            3| Gunnar Nielsen Aaby|         24|      273|\n",
      "|            4|Edgar Lindenau Aabye|         34|      278|\n",
      "|            5|Christine Jacoba ...|         21|      705|\n",
      "+-------------+--------------------+-----------+---------+\n",
      "only showing top 5 rows\n",
      "\n"
     ]
    }
   ],
   "source": [
    "sqlContext.sql('SELECT * FROM deportista').show(5)"
   ]
  },
  {
   "cell_type": "code",
   "execution_count": 42,
   "metadata": {},
   "outputs": [
    {
     "name": "stdout",
     "output_type": "stream",
     "text": [
      "+-------+--------+-----+\n",
      "|medalla|  equipo|sigla|\n",
      "+-------+--------+-----+\n",
      "|   Gold|Zimbabwe|  ZIM|\n",
      "|   Gold|Zimbabwe|  ZIM|\n",
      "|   Gold|Zimbabwe|  ZIM|\n",
      "|   Gold|Zimbabwe|  ZIM|\n",
      "|   Gold|Zimbabwe|  ZIM|\n",
      "| Bronze|Zimbabwe|  ZIM|\n",
      "|   Gold|Zimbabwe|  ZIM|\n",
      "|   Gold|Zimbabwe|  ZIM|\n",
      "|   Gold|Zimbabwe|  ZIM|\n",
      "| Silver|Zimbabwe|  ZIM|\n",
      "|   Gold|Zimbabwe|  ZIM|\n",
      "|   Gold|Zimbabwe|  ZIM|\n",
      "| Silver|Zimbabwe|  ZIM|\n",
      "|   Gold|Zimbabwe|  ZIM|\n",
      "| Silver|Zimbabwe|  ZIM|\n",
      "| Silver|Zimbabwe|  ZIM|\n",
      "|   Gold|Zimbabwe|  ZIM|\n",
      "|   Gold|Zimbabwe|  ZIM|\n",
      "|   Gold|Zimbabwe|  ZIM|\n",
      "|   Gold|Zimbabwe|  ZIM|\n",
      "+-------+--------+-----+\n",
      "only showing top 20 rows\n",
      "\n"
     ]
    }
   ],
   "source": [
    "sqlContext.sql('''\n",
    "                SELECT medalla, equipo, sigla FROM resultado r\n",
    "                JOIN deportista d\n",
    "                ON r.deportista_id = d.deportista_id\n",
    "                JOIN paises p\n",
    "                ON p.id = d.equipo_id\n",
    "                WHERE medalla <> \"NA\"\n",
    "                ORDER BY sigla DESC\n",
    "                ''').show()"
   ]
  },
  {
   "cell_type": "markdown",
   "metadata": {},
   "source": [
    "# Cached"
   ]
  },
  {
   "cell_type": "code",
   "execution_count": 52,
   "metadata": {},
   "outputs": [],
   "source": [
    "from pyspark.storagelevel import StorageLevel"
   ]
  },
  {
   "cell_type": "code",
   "execution_count": 43,
   "metadata": {},
   "outputs": [
    {
     "data": {
      "text/plain": [
       "False"
      ]
     },
     "execution_count": 43,
     "metadata": {},
     "output_type": "execute_result"
    }
   ],
   "source": [
    "medallistaXAnio.is_cached"
   ]
  },
  {
   "cell_type": "code",
   "execution_count": 44,
   "metadata": {},
   "outputs": [
    {
     "data": {
      "text/plain": [
       "MapPartitionsRDD[161] at javaToPython at NativeMethodAccessorImpl.java:0"
      ]
     },
     "execution_count": 44,
     "metadata": {},
     "output_type": "execute_result"
    }
   ],
   "source": [
    "medallistaXAnio.rdd.cache()"
   ]
  },
  {
   "cell_type": "code",
   "execution_count": 48,
   "metadata": {},
   "outputs": [
    {
     "data": {
      "text/plain": [
       "StorageLevel(False, True, False, False, 1)"
      ]
     },
     "execution_count": 48,
     "metadata": {},
     "output_type": "execute_result"
    }
   ],
   "source": [
    "medallistaXAnio.rdd.getStorageLevel()"
   ]
  },
  {
   "cell_type": "code",
   "execution_count": 49,
   "metadata": {},
   "outputs": [
    {
     "data": {
      "text/plain": [
       "MapPartitionsRDD[161] at javaToPython at NativeMethodAccessorImpl.java:0"
      ]
     },
     "execution_count": 49,
     "metadata": {},
     "output_type": "execute_result"
    }
   ],
   "source": [
    "medallistaXAnio.rdd.unpersist()"
   ]
  },
  {
   "cell_type": "code",
   "execution_count": 53,
   "metadata": {},
   "outputs": [
    {
     "data": {
      "text/plain": [
       "MapPartitionsRDD[161] at javaToPython at NativeMethodAccessorImpl.java:0"
      ]
     },
     "execution_count": 53,
     "metadata": {},
     "output_type": "execute_result"
    }
   ],
   "source": [
    "medallistaXAnio.rdd.persist(StorageLevel.MEMORY_AND_DISK_2)"
   ]
  },
  {
   "cell_type": "code",
   "execution_count": 56,
   "metadata": {},
   "outputs": [],
   "source": [
    "StorageLevel.MEMORY_AND_DISK_3 = StorageLevel(True, True, False, False, 3)"
   ]
  },
  {
   "cell_type": "code",
   "execution_count": 57,
   "metadata": {},
   "outputs": [
    {
     "data": {
      "text/plain": [
       "MapPartitionsRDD[161] at javaToPython at NativeMethodAccessorImpl.java:0"
      ]
     },
     "execution_count": 57,
     "metadata": {},
     "output_type": "execute_result"
    }
   ],
   "source": [
    "medallistaXAnio.rdd.unpersist()"
   ]
  },
  {
   "cell_type": "code",
   "execution_count": 59,
   "metadata": {},
   "outputs": [
    {
     "data": {
      "text/plain": [
       "MapPartitionsRDD[161] at javaToPython at NativeMethodAccessorImpl.java:0"
      ]
     },
     "execution_count": 59,
     "metadata": {},
     "output_type": "execute_result"
    }
   ],
   "source": [
    "medallistaXAnio.rdd.persist(StorageLevel.MEMORY_AND_DISK_3)"
   ]
  },
  {
   "cell_type": "code",
   "execution_count": 67,
   "metadata": {},
   "outputs": [
    {
     "data": {
      "text/plain": [
       "265570"
      ]
     },
     "execution_count": 67,
     "metadata": {},
     "output_type": "execute_result"
    }
   ],
   "source": [
    "medallistaXAnio.rdd.countApproxDistinct()"
   ]
  },
  {
   "cell_type": "code",
   "execution_count": 68,
   "metadata": {},
   "outputs": [
    {
     "data": {
      "text/plain": [
       "271109"
      ]
     },
     "execution_count": 68,
     "metadata": {},
     "output_type": "execute_result"
    }
   ],
   "source": [
    "medallistaXAnio.rdd.count()"
   ]
  },
  {
   "cell_type": "code",
   "execution_count": null,
   "metadata": {},
   "outputs": [],
   "source": []
  }
 ],
 "metadata": {
  "kernelspec": {
   "display_name": "Python 3",
   "language": "python",
   "name": "python3"
  },
  "language_info": {
   "codemirror_mode": {
    "name": "ipython",
    "version": 3
   },
   "file_extension": ".py",
   "mimetype": "text/x-python",
   "name": "python",
   "nbconvert_exporter": "python",
   "pygments_lexer": "ipython3",
   "version": "3.7.6"
  }
 },
 "nbformat": 4,
 "nbformat_minor": 4
}
