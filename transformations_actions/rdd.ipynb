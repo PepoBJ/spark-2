{
 "cells": [
  {
   "cell_type": "code",
   "execution_count": 1,
   "metadata": {},
   "outputs": [],
   "source": [
    "from pyspark import SparkContext"
   ]
  },
  {
   "cell_type": "code",
   "execution_count": 2,
   "metadata": {},
   "outputs": [],
   "source": [
    "sc = SparkContext(master='local', appName='Transformation_and_accions')"
   ]
  },
  {
   "cell_type": "markdown",
   "metadata": {},
   "source": [
    "# RDD"
   ]
  },
  {
   "cell_type": "code",
   "execution_count": 3,
   "metadata": {},
   "outputs": [
    {
     "data": {
      "text/plain": [
       "pyspark.rdd.RDD"
      ]
     },
     "execution_count": 3,
     "metadata": {},
     "output_type": "execute_result"
    }
   ],
   "source": [
    "rdd1 = sc.parallelize([1, 2, 3])\n",
    "type(rdd1)"
   ]
  },
  {
   "cell_type": "code",
   "execution_count": 4,
   "metadata": {},
   "outputs": [
    {
     "data": {
      "text/plain": [
       "[1, 2, 3]"
      ]
     },
     "execution_count": 4,
     "metadata": {},
     "output_type": "execute_result"
    }
   ],
   "source": [
    "rdd1.collect()"
   ]
  },
  {
   "cell_type": "code",
   "execution_count": 9,
   "metadata": {},
   "outputs": [
    {
     "data": {
      "text/html": [
       "\n",
       "        <div>\n",
       "            <p><b>SparkContext</b></p>\n",
       "\n",
       "            <p><a href=\"http://172.25.160.1:4040\">Spark UI</a></p>\n",
       "\n",
       "            <dl>\n",
       "              <dt>Version</dt>\n",
       "                <dd><code>v2.4.7</code></dd>\n",
       "              <dt>Master</dt>\n",
       "                <dd><code>local</code></dd>\n",
       "              <dt>AppName</dt>\n",
       "                <dd><code>Transformation_and_accions</code></dd>\n",
       "            </dl>\n",
       "        </div>\n",
       "        "
      ],
      "text/plain": [
       "<SparkContext master=local appName=Transformation_and_accions>"
      ]
     },
     "execution_count": 9,
     "metadata": {},
     "output_type": "execute_result"
    }
   ],
   "source": [
    "sc"
   ]
  },
  {
   "cell_type": "code",
   "execution_count": 7,
   "metadata": {},
   "outputs": [
    {
     "name": "stdout",
     "output_type": "stream",
     "text": [
      "deporte.csv\t deportistaError.csv  modelo_relacional.jpg\n",
      "deportista.csv\t evento.csv\t      paises.csv\n",
      "deportista2.csv  juegos.csv\t      resultados.csv\n"
     ]
    }
   ],
   "source": [
    "!ls /home/robert/Project/spark-2/transformations_actions/files"
   ]
  },
  {
   "cell_type": "code",
   "execution_count": 11,
   "metadata": {},
   "outputs": [],
   "source": [
    "path = '/home/robert/Project/spark-2/transformations_actions/files/'"
   ]
  },
  {
   "cell_type": "code",
   "execution_count": 12,
   "metadata": {},
   "outputs": [],
   "source": [
    "equipos_olimpicos_rdd = sc.textFile(path + 'paises.csv') \\\n",
    "    .map(lambda line : line.split(','))"
   ]
  },
  {
   "cell_type": "code",
   "execution_count": 16,
   "metadata": {},
   "outputs": [
    {
     "data": {
      "text/plain": [
       "[['id', 'equipo', 'sigla'],\n",
       " ['1', '30. Februar', 'AUT'],\n",
       " ['2', 'A North American Team', 'MEX'],\n",
       " ['3', 'Acipactli', 'MEX'],\n",
       " ['4', 'Acturus', 'ARG'],\n",
       " ['5', 'Afghanistan', 'AFG'],\n",
       " ['6', 'Akatonbo', 'IRL'],\n",
       " ['7', 'Alain IV', 'SUI'],\n",
       " ['8', 'Albania', 'ALB'],\n",
       " ['9', 'Alcaid', 'POR'],\n",
       " ['10', 'Alcyon-6', 'FRA'],\n",
       " ['11', 'Alcyon-7', 'FRA'],\n",
       " ['12', 'Aldebaran', 'ITA'],\n",
       " ['13', 'Aldebaran II', 'ITA'],\n",
       " ['14', 'Aletta', 'IRL']]"
      ]
     },
     "execution_count": 16,
     "metadata": {},
     "output_type": "execute_result"
    }
   ],
   "source": [
    "equipos_olimpicos_rdd.take(15)"
   ]
  },
  {
   "cell_type": "code",
   "execution_count": 21,
   "metadata": {},
   "outputs": [
    {
     "data": {
      "text/plain": [
       "231"
      ]
     },
     "execution_count": 21,
     "metadata": {},
     "output_type": "execute_result"
    }
   ],
   "source": [
    "equipos_olimpicos_rdd.map(lambda x: (x[2])).distinct().count()"
   ]
  },
  {
   "cell_type": "code",
   "execution_count": 23,
   "metadata": {},
   "outputs": [
    {
     "data": {
      "text/plain": [
       "[('sigla', 1), ('AUT', 11), ('MEX', 9), ('ARG', 18), ('AFG', 1)]"
      ]
     },
     "execution_count": 23,
     "metadata": {},
     "output_type": "execute_result"
    }
   ],
   "source": [
    "equipos_olimpicos_rdd.map(lambda x: (x[2], x[1])) \\\n",
    "    .groupByKey() \\\n",
    "    .mapValues(len) \\\n",
    "    .take(5)"
   ]
  },
  {
   "cell_type": "code",
   "execution_count": 24,
   "metadata": {},
   "outputs": [
    {
     "data": {
      "text/plain": [
       "[('sigla', ['equipo']),\n",
       " ('AUT',\n",
       "  ['30. Februar',\n",
       "   'Austria',\n",
       "   'Austria-1',\n",
       "   'Austria-2',\n",
       "   'Breslau',\n",
       "   'Brigantia',\n",
       "   'Donar III',\n",
       "   'Evita VI',\n",
       "   'May-Be 1960',\n",
       "   '\"R.-V. Germania; Leitmeritz\"',\n",
       "   'Surprise']),\n",
       " ('MEX',\n",
       "  ['A North American Team',\n",
       "   'Acipactli',\n",
       "   'Chamukina',\n",
       "   'Mexico',\n",
       "   'Mexico-1',\n",
       "   'Mexico-2',\n",
       "   'Nausikaa 4',\n",
       "   'Tlaloc',\n",
       "   'Xolotl']),\n",
       " ('ARG',\n",
       "  ['Acturus',\n",
       "   'Antares',\n",
       "   'Arcturus',\n",
       "   'Ardilla',\n",
       "   'Argentina',\n",
       "   'Argentina-1',\n",
       "   'Argentina-2',\n",
       "   'Blue Red',\n",
       "   'Covunco III',\n",
       "   'Cupidon III',\n",
       "   'Djinn',\n",
       "   'Gullvinge',\n",
       "   'Matrero II',\n",
       "   'Mizar',\n",
       "   'Pampero',\n",
       "   'Rampage',\n",
       "   'Tango',\n",
       "   'Wiking']),\n",
       " ('AFG', ['Afghanistan'])]"
      ]
     },
     "execution_count": 24,
     "metadata": {},
     "output_type": "execute_result"
    }
   ],
   "source": [
    "equipos_olimpicos_rdd.map(lambda x: (x[2], x[1])) \\\n",
    "    .groupByKey() \\\n",
    "    .mapValues(list) \\\n",
    "    .take(5)"
   ]
  },
  {
   "cell_type": "code",
   "execution_count": 29,
   "metadata": {},
   "outputs": [
    {
     "data": {
      "text/plain": [
       "[['4', 'Acturus', 'ARG'],\n",
       " ['37', 'Antares', 'ARG'],\n",
       " ['42', 'Arcturus', 'ARG'],\n",
       " ['43', 'Ardilla', 'ARG'],\n",
       " ['45', 'Argentina', 'ARG'],\n",
       " ['46', 'Argentina-1', 'ARG'],\n",
       " ['47', 'Argentina-2', 'ARG'],\n",
       " ['119', 'Blue Red', 'ARG'],\n",
       " ['238', 'Covunco III', 'ARG'],\n",
       " ['252', 'Cupidon III', 'ARG'],\n",
       " ['288', 'Djinn', 'ARG'],\n",
       " ['436', 'Gullvinge', 'ARG'],\n",
       " ['644', 'Matrero II', 'ARG'],\n",
       " ['672', 'Mizar', 'ARG'],\n",
       " ['774', 'Pampero', 'ARG'],\n",
       " ['843', 'Rampage', 'ARG'],\n",
       " ['1031', 'Tango', 'ARG'],\n",
       " ['1162', 'Wiking', 'ARG']]"
      ]
     },
     "execution_count": 29,
     "metadata": {},
     "output_type": "execute_result"
    }
   ],
   "source": [
    "equipos_argentinos = equipos_olimpicos_rdd.filter(lambda l: 'ARG' in l)\n",
    "equipos_argentinos.collect()"
   ]
  },
  {
   "cell_type": "code",
   "execution_count": 30,
   "metadata": {},
   "outputs": [
    {
     "data": {
      "text/plain": [
       "1185"
      ]
     },
     "execution_count": 30,
     "metadata": {},
     "output_type": "execute_result"
    }
   ],
   "source": [
    "equipos_olimpicos_rdd.count()"
   ]
  },
  {
   "cell_type": "code",
   "execution_count": 31,
   "metadata": {},
   "outputs": [
    {
     "data": {
      "text/plain": [
       "1185"
      ]
     },
     "execution_count": 31,
     "metadata": {},
     "output_type": "execute_result"
    }
   ],
   "source": [
    "equipos_olimpicos_rdd.countApprox(20)"
   ]
  },
  {
   "cell_type": "code",
   "execution_count": 34,
   "metadata": {},
   "outputs": [],
   "source": [
    "deportista_olimpico_rdd = sc.textFile(path + 'deportista.csv') \\\n",
    "    .map(lambda l: l.split(','))\n",
    "\n",
    "deportista_olimpico_2_rdd = sc.textFile(path + 'deportista2.csv') \\\n",
    "    .map(lambda l: l.split(','))"
   ]
  },
  {
   "cell_type": "code",
   "execution_count": 37,
   "metadata": {},
   "outputs": [],
   "source": [
    "deportista_olimpico_rdd = deportista_olimpico_rdd \\\n",
    "    .union(deportista_olimpico_2_rdd)"
   ]
  },
  {
   "cell_type": "code",
   "execution_count": 39,
   "metadata": {},
   "outputs": [
    {
     "data": {
      "text/plain": [
       "135572"
      ]
     },
     "execution_count": 39,
     "metadata": {},
     "output_type": "execute_result"
    }
   ],
   "source": [
    "deportista_olimpico_rdd.count()"
   ]
  },
  {
   "cell_type": "code",
   "execution_count": 45,
   "metadata": {},
   "outputs": [
    {
     "data": {
      "text/plain": [
       "[['id', 'equipo', 'sigla'], ['999', 'Stella-2', 'NOR']]"
      ]
     },
     "execution_count": 45,
     "metadata": {},
     "output_type": "execute_result"
    }
   ],
   "source": [
    "equipos_olimpicos_rdd.top(2)"
   ]
  },
  {
   "cell_type": "code",
   "execution_count": 43,
   "metadata": {},
   "outputs": [
    {
     "data": {
      "text/plain": [
       "[['deportista_id', 'nombre', 'genero', 'edad', 'altura', 'peso', 'equipo_id'],\n",
       " ['99999', 'Alexander Grant Alick Rennie', '1', '32', '182', '71', '967']]"
      ]
     },
     "execution_count": 43,
     "metadata": {},
     "output_type": "execute_result"
    }
   ],
   "source": [
    "deportista_olimpico_rdd.top(2)"
   ]
  },
  {
   "cell_type": "code",
   "execution_count": 46,
   "metadata": {},
   "outputs": [
    {
     "data": {
      "text/plain": [
       "[('199', (['1', 'A Dijiang', '1', '24', '180', '80'], 'CHN')),\n",
       " ('199', (['2', 'A Lamusi', '1', '23', '170', '60'], 'CHN')),\n",
       " ('199', (['602', 'Abudoureheman', '1', '22', '182', '75'], 'CHN')),\n",
       " ('199', (['1463', 'Ai Linuer', '1', '25', '160', '62'], 'CHN')),\n",
       " ('199', (['1464', 'Ai Yanhan', '2', '14', '168', '54'], 'CHN'))]"
      ]
     },
     "execution_count": 46,
     "metadata": {},
     "output_type": "execute_result"
    }
   ],
   "source": [
    "deportista_olimpico_rdd.map(lambda l: [l[-1], l[:-1]]) \\\n",
    "    .join(equipos_olimpicos_rdd.map(lambda x: [x[0], x[2]])) \\\n",
    "    .take(5)"
   ]
  },
  {
   "cell_type": "code",
   "execution_count": 47,
   "metadata": {},
   "outputs": [
    {
     "data": {
      "text/plain": [
       "[('970', (['68062', 'Lee MinHui', '2', '28', '174', '65'], 'KOR')),\n",
       " ('154', (['39161', 'Angel Merdzhanov Gavrilov', '1', '24', '0', '0'], 'BUL')),\n",
       " ('1084',\n",
       "  (['62843', 'Olha Vasylivna Korobka', '2', '18', '181', '167'], 'UKR')),\n",
       " ('678', (['97550', 'Puntsagiin Skhbat', '1', '24', '174', '82'], 'MGL')),\n",
       " ('1096', (['106789', 'Hugo Scherzer', '1', '43', '0', '0'], 'USA'))]"
      ]
     },
     "execution_count": 47,
     "metadata": {},
     "output_type": "execute_result"
    }
   ],
   "source": [
    "deportista_olimpico_rdd.map(lambda l: [l[-1], l[:-1]]) \\\n",
    "    .join(equipos_olimpicos_rdd.map(lambda x: [x[0], x[2]])) \\\n",
    "    .takeSample(False, 5, 25)"
   ]
  },
  {
   "cell_type": "code",
   "execution_count": 53,
   "metadata": {},
   "outputs": [],
   "source": [
    "resultado = sc.textFile(path + 'resultados.csv') \\\n",
    "    .map(lambda l: l.split(','))"
   ]
  },
  {
   "cell_type": "code",
   "execution_count": 54,
   "metadata": {},
   "outputs": [],
   "source": [
    "resultado_ganador = resultado.filter(lambda l: 'NA' not in l[1])"
   ]
  },
  {
   "cell_type": "code",
   "execution_count": 55,
   "metadata": {},
   "outputs": [
    {
     "data": {
      "text/plain": [
       "[['resultado_id', 'medalla', 'deportista_id', 'juego_id', 'evento_id'],\n",
       " ['4', 'Gold', '4', '2', '4'],\n",
       " ['38', 'Bronze', '15', '7', '19'],\n",
       " ['39', 'Bronze', '15', '7', '20'],\n",
       " ['41', 'Bronze', '16', '50', '14']]"
      ]
     },
     "execution_count": 55,
     "metadata": {},
     "output_type": "execute_result"
    }
   ],
   "source": [
    "resultado_ganador.take(5)"
   ]
  },
  {
   "cell_type": "code",
   "execution_count": 75,
   "metadata": {},
   "outputs": [],
   "source": [
    "jugadores_equipos_rdd =deportista_olimpico_rdd.map(lambda l: [l[-1], l[:-1]]) \\\n",
    "    .join(equipos_olimpicos_rdd.map(lambda x: [x[0], x[2]]))"
   ]
  },
  {
   "cell_type": "code",
   "execution_count": 79,
   "metadata": {},
   "outputs": [
    {
     "data": {
      "text/plain": [
       "[['deportista_id', 'nombre', 'genero', 'edad', 'altura', 'peso', 'equipo_id'],\n",
       " ['1', 'A Dijiang', '1', '24', '180', '80', '199'],\n",
       " ['2', 'A Lamusi', '1', '23', '170', '60', '199'],\n",
       " ['3', 'Gunnar Nielsen Aaby', '1', '24', '0', '0', '273'],\n",
       " ['4', 'Edgar Lindenau Aabye', '1', '34', '0', '0', '278']]"
      ]
     },
     "execution_count": 79,
     "metadata": {},
     "output_type": "execute_result"
    }
   ],
   "source": [
    "deportista_olimpico_rdd.take(5)"
   ]
  },
  {
   "cell_type": "code",
   "execution_count": 80,
   "metadata": {},
   "outputs": [],
   "source": [
    "deportista_paises = deportista_olimpico_rdd \\\n",
    "    .map(lambda l: [l[-1], l[:-1]]) \\\n",
    "    .join(equipos_olimpicos_rdd.map(lambda x: [x[0], x[2]]))"
   ]
  },
  {
   "cell_type": "code",
   "execution_count": 82,
   "metadata": {},
   "outputs": [
    {
     "data": {
      "text/plain": [
       "[['deportista_id', 'nombre', 'genero', 'edad', 'altura', 'peso', 'equipo_id'],\n",
       " ['1', 'A Dijiang', '1', '24', '180', '80', '199'],\n",
       " ['2', 'A Lamusi', '1', '23', '170', '60', '199'],\n",
       " ['3', 'Gunnar Nielsen Aaby', '1', '24', '0', '0', '273'],\n",
       " ['4', 'Edgar Lindenau Aabye', '1', '34', '0', '0', '278']]"
      ]
     },
     "execution_count": 82,
     "metadata": {},
     "output_type": "execute_result"
    }
   ],
   "source": [
    "deportista_olimpico_rdd.take(5)"
   ]
  },
  {
   "cell_type": "code",
   "execution_count": 81,
   "metadata": {},
   "outputs": [
    {
     "data": {
      "text/plain": [
       "[('199', (['1', 'A Dijiang', '1', '24', '180', '80'], 'CHN')),\n",
       " ('199', (['2', 'A Lamusi', '1', '23', '170', '60'], 'CHN')),\n",
       " ('199', (['602', 'Abudoureheman', '1', '22', '182', '75'], 'CHN')),\n",
       " ('199', (['1463', 'Ai Linuer', '1', '25', '160', '62'], 'CHN')),\n",
       " ('199', (['1464', 'Ai Yanhan', '2', '14', '168', '54'], 'CHN'))]"
      ]
     },
     "execution_count": 81,
     "metadata": {},
     "output_type": "execute_result"
    }
   ],
   "source": [
    "deportista_paises.take(5)"
   ]
  },
  {
   "cell_type": "code",
   "execution_count": 83,
   "metadata": {},
   "outputs": [
    {
     "data": {
      "text/plain": [
       "[('74',\n",
       "  ((['65', 'Patimat Abakarova', '2', '21', '165', '49'], 'AZE'), 'Gold')),\n",
       " ('74', ((['129', 'Ruslan Abbasov', '1', '22', '181', '74'], 'AZE'), 'Gold')),\n",
       " ('74', ((['130', 'Tural Abbasov', '1', '18', '182', '76'], 'AZE'), 'Gold')),\n",
       " ('74', ((['131', 'Tran Abbasova', '2', '33', '159', '53'], 'AZE'), 'Gold')),\n",
       " ('74',\n",
       "  ((['335', 'Abdulqdir Abdullayev', '1', '28', '188', '91'], 'AZE'), 'Gold')),\n",
       " ('74',\n",
       "  ((['336', 'Arif Yadulla Abdullayev', '1', '27', '164', '60'], 'AZE'),\n",
       "   'Gold'))]"
      ]
     },
     "execution_count": 83,
     "metadata": {},
     "output_type": "execute_result"
    }
   ],
   "source": [
    "deportista_paises.join(resultado_ganador).take(6)"
   ]
  },
  {
   "cell_type": "code",
   "execution_count": 84,
   "metadata": {},
   "outputs": [],
   "source": [
    "valores_medallas = {\n",
    "    'Gold': 7,\n",
    "    'Silver': 5,\n",
    "    'Bronze': 4\n",
    "}"
   ]
  },
  {
   "cell_type": "code",
   "execution_count": 85,
   "metadata": {},
   "outputs": [],
   "source": [
    "paises_medallas_rdd = deportista_paises.join(resultado_ganador)"
   ]
  },
  {
   "cell_type": "code",
   "execution_count": 92,
   "metadata": {},
   "outputs": [],
   "source": [
    "paises_puntos = paises_medallas_rdd \\\n",
    "    .map(lambda x: (x[1][0][-1], valores_medallas[x[1][1]]))"
   ]
  },
  {
   "cell_type": "code",
   "execution_count": 100,
   "metadata": {},
   "outputs": [
    {
     "data": {
      "text/plain": [
       "[('AZE', 7),\n",
       " ('AZE', 7),\n",
       " ('AZE', 7),\n",
       " ('AZE', 7),\n",
       " ('AZE', 7),\n",
       " ('AZE', 7),\n",
       " ('AZE', 7),\n",
       " ('AZE', 7),\n",
       " ('AZE', 7),\n",
       " ('AZE', 7)]"
      ]
     },
     "execution_count": 100,
     "metadata": {},
     "output_type": "execute_result"
    }
   ],
   "source": [
    "paises_puntos.take(10)"
   ]
  },
  {
   "cell_type": "code",
   "execution_count": 91,
   "metadata": {},
   "outputs": [],
   "source": [
    "from operator import add"
   ]
  },
  {
   "cell_type": "code",
   "execution_count": 95,
   "metadata": {},
   "outputs": [],
   "source": [
    "conclusion = paises_puntos.reduceByKey((add)) \\\n",
    "    .sortBy(lambda x: x[1], ascending=False)"
   ]
  },
  {
   "cell_type": "code",
   "execution_count": 99,
   "metadata": {},
   "outputs": [
    {
     "data": {
      "text/plain": [
       "[('CAN', 32538),\n",
       " ('ARG', 12520),\n",
       " ('HUN', 10860),\n",
       " ('MEX', 6124),\n",
       " ('RSA', 3788),\n",
       " ('BLR', 3580),\n",
       " ('LTU', 1535),\n",
       " ('MGL', 1460),\n",
       " ('USA', 1342),\n",
       " ('AZE', 1218)]"
      ]
     },
     "execution_count": 99,
     "metadata": {},
     "output_type": "execute_result"
    }
   ],
   "source": [
    "conclusion.take(10)"
   ]
  },
  {
   "cell_type": "code",
   "execution_count": 101,
   "metadata": {},
   "outputs": [],
   "source": [
    "sc.stop()"
   ]
  },
  {
   "cell_type": "code",
   "execution_count": null,
   "metadata": {},
   "outputs": [],
   "source": []
  }
 ],
 "metadata": {
  "kernelspec": {
   "display_name": "Python 3",
   "language": "python",
   "name": "python3"
  },
  "language_info": {
   "codemirror_mode": {
    "name": "ipython",
    "version": 3
   },
   "file_extension": ".py",
   "mimetype": "text/x-python",
   "name": "python",
   "nbconvert_exporter": "python",
   "pygments_lexer": "ipython3",
   "version": "3.7.6"
  }
 },
 "nbformat": 4,
 "nbformat_minor": 4
}
